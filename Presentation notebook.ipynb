{
 "cells": [
  {
   "cell_type": "markdown",
   "metadata": {},
   "source": [
    "### Executive Summary\n",
    "Dear CEO,\n",
    "Thank you for the oppurtunity to work with you on this special project to better understand the movie industry. We have conducted a series of analysis to better understand top selling movies, fast growing georaphies and who to partner with in order for Microsoft to enter into the movie industry.\n",
    "\n",
    "This analysis provides you with insights by answering the following questions:\n",
    "    1. What is the movie industry trend like over the past 2 decades?\n",
    "    2. What is the correlation production budget and worldwide gross?\n",
    "    3. Which genres have had the highest grossing revenue and ROI?\n",
    "    4. Which genres have had the highest ratings?\n",
    "    5. Is there any correlation popularity and revenue?\n",
    "    6. Who are the best directors to partner with in winning genres?\n",
    "    7. What are the common runtimes by genre?\n",
    "    8. Which studio should Microsoft partner with?"
   ]
  },
  {
   "cell_type": "markdown",
   "metadata": {},
   "source": [
    "### Importing Python libraries\n",
    "\n",
    "The sets of codes below have been carefully written to import a number of python libraries needed to import, interprete and manipulate data in order to generate inisights needed."
   ]
  },
  {
   "cell_type": "code",
   "execution_count": null,
   "metadata": {},
   "outputs": [],
   "source": [
    "#importing matplot\n",
    "import matplotlib.pyplot as plt \n",
    "\n",
    "# Set plot space as inline for inline plots display\n",
    "%matplotlib inline\n",
    "\n",
    "#importing numpy\n",
    "import numpy as np \n",
    "\n",
    "# importing pandas into jupyter notebook\n",
    "import pandas as pd"
   ]
  },
  {
   "cell_type": "markdown",
   "metadata": {},
   "source": [
    "### Importing data from SQL\n",
    "\n",
    "Running the below codes creates a connection between python and the SQL database and enables python to pull data from the \"Movies\" database. \n",
    "Three tables (*Box Office Mojo*; *IMDB*; *Rotten Tomatoes*) were merged in SQL into a larger database and the inported into pandaas dataframe. This enabled the team generate depper insights across databases."
   ]
  },
  {
   "cell_type": "code",
   "execution_count": 5,
   "metadata": {},
   "outputs": [
    {
     "ename": "NameError",
     "evalue": "name 'pd' is not defined",
     "output_type": "error",
     "traceback": [
      "\u001b[1;31m---------------------------------------------------------------------------\u001b[0m",
      "\u001b[1;31mNameError\u001b[0m                                 Traceback (most recent call last)",
      "\u001b[1;32m<ipython-input-5-db9d3c8e54c6>\u001b[0m in \u001b[0;36m<module>\u001b[1;34m\u001b[0m\n\u001b[0;32m      7\u001b[0m \u001b[1;33m\u001b[0m\u001b[0m\n\u001b[0;32m      8\u001b[0m \u001b[1;31m#importing merged database (*Box Office Mojo*; *IMDB*; *Rotten Tomatoes*)\u001b[0m\u001b[1;33m\u001b[0m\u001b[1;33m\u001b[0m\u001b[1;33m\u001b[0m\u001b[0m\n\u001b[1;32m----> 9\u001b[1;33m df = pd.read_sql_query(\"\"\"\n\u001b[0m\u001b[0;32m     10\u001b[0m                          \u001b[0mSELECT\u001b[0m  \u001b[0mtitle\u001b[0m\u001b[1;33m,\u001b[0m \u001b[0mstudio\u001b[0m\u001b[1;33m,\u001b[0m \u001b[0mbom_movie_gross\u001b[0m\u001b[1;33m.\u001b[0m\u001b[0mdomestic_gross\u001b[0m\u001b[1;33m,\u001b[0m\u001b[1;33m\u001b[0m\u001b[1;33m\u001b[0m\u001b[0m\n\u001b[0;32m     11\u001b[0m                                  \u001b[0mforeign_gross\u001b[0m\u001b[1;33m,\u001b[0m \u001b[0myear\u001b[0m\u001b[1;33m,\u001b[0m \u001b[0mtconst\u001b[0m\u001b[1;33m,\u001b[0m \u001b[0mruntime_minutes\u001b[0m\u001b[1;33m,\u001b[0m \u001b[0mgenres\u001b[0m\u001b[1;33m,\u001b[0m\u001b[1;33m\u001b[0m\u001b[1;33m\u001b[0m\u001b[0m\n",
      "\u001b[1;31mNameError\u001b[0m: name 'pd' is not defined"
     ]
    }
   ],
   "source": [
    "#importing SQL connector\n",
    "import mysql.connector\n",
    "\n",
    "con = mysql.connector.connect(user='hbs-student', password='super-secure-password?',\n",
    "                              host='hbs-ds-060120.c1doesqrid0e.us-east-1.rds.amazonaws.com',\n",
    "                              database='movies')\n",
    "\n",
    "#importing merged database (*Box Office Mojo*; *IMDB*; *Rotten Tomatoes*)\n",
    "df = pd.read_sql_query(\"\"\"\n",
    "                         SELECT  title, studio, bom_movie_gross.domestic_gross, \n",
    "                                 foreign_gross, year, tconst, runtime_minutes, genres, \n",
    "                                 averagerating, numvotes, directors, writers, production_budget\n",
    "                         FROM movies.bom_movie_gross\n",
    "                         JOIN imdb_title_basics\n",
    "                         ON title = primary_title\n",
    "                         JOIN imdb_title_ratings\n",
    "                         USING (tconst)\n",
    "                         JOIN imdb_title_crew\n",
    "                         USING (tconst)\n",
    "                         JOIN tn_movie_budgets\n",
    "                         ON title = movie;\n",
    "                         \"\"\", con)\n",
    "# getting first 5 rows of imported data\n",
    "df.head()"
   ]
  },
  {
   "cell_type": "markdown",
   "metadata": {},
   "source": [
    "### Cleaning the dataset\n",
    "\n",
    "The following methodology was leveraged in order to clean the dataset into a workable version:\n",
    "* Tranformed old 'Directors' column from (one column containing multiple values) to multiple columns contianing one value)\n",
    "* Created new total_gross column (domestic_gross + foreign_gross)\n",
    "* Created new ROI column  (total_gross / production_budget -1)\n",
    "* Removed rows containing empty/ no values for total_gross\n",
    "* Converted columns (production_budget; total_gross; domestic_gross; foreign_gross) into integers"
   ]
  },
  {
   "cell_type": "code",
   "execution_count": null,
   "metadata": {},
   "outputs": [],
   "source": [
    "# creating new database with split value columns\n",
    "directors = df[\"directors\"].str.split(\",\", n = 1, expand = True)\n",
    "# making separate director columns from new data frame \n",
    "df[\"director1\"]= directors[0] \n",
    "df[\"director2\"]= directors[1]\n",
    "# Dropping old directors columns \n",
    "df.drop(columns =[\"directors\"], inplace = True)\n",
    "\n",
    "# creating total gross column\n",
    "df[\"total_gross\"]= df['domestic_gross'] + df['foreign_gross']\n",
    "\n",
    "# creating ROI column\n",
    "df[\"ROI\"]= (df['total_gross'] / df['production_budget']) -1 \n",
    "\n",
    "# removing empty cells\n",
    "df['total_gross'].replace('', np.nan, inplace=True)\n",
    "df.dropna(subset=['total_gross'], inplace=True)\n",
    "\n",
    "# cleaning production budget into integers\n",
    "df['production_budget'] = df['production_budget'].str.replace(',', '')\n",
    "df['production_budget'] = df['production_budget'].str.replace('$', '')\n",
    "df['production_budget'] = df['production_budget'].astype(int)\n",
    "\n",
    "# converting columns to integer\n",
    "df['total_gross'] = df['total_gross'].astype(int)\n",
    "df['domestic_gross'] = df['domestic_gross'].astype(int)\n",
    "df['foreign_gross'] = df['foreign_gross'].astype(int)\n",
    "df.head()"
   ]
  },
  {
   "cell_type": "markdown",
   "metadata": {},
   "source": [
    "### Analysis\n",
    "\n",
    "Below are results to analysis conducted. "
   ]
  },
  {
   "cell_type": "markdown",
   "metadata": {},
   "source": [
    "#### Question 1. What is the highest domestic grossing studios from 2010 – 2012?"
   ]
  },
  {
   "cell_type": "code",
   "execution_count": 6,
   "metadata": {},
   "outputs": [],
   "source": [
    "# insert code for analysis and graph here"
   ]
  },
  {
   "cell_type": "markdown",
   "metadata": {},
   "source": [
    "#### Question 2. What is the movie industry trend like over the past 2 decades?"
   ]
  },
  {
   "cell_type": "code",
   "execution_count": null,
   "metadata": {},
   "outputs": [],
   "source": []
  },
  {
   "cell_type": "markdown",
   "metadata": {},
   "source": [
    "#### Question 3. What is the correlation production budget and worldwide gross?"
   ]
  },
  {
   "cell_type": "code",
   "execution_count": null,
   "metadata": {},
   "outputs": [],
   "source": []
  },
  {
   "cell_type": "markdown",
   "metadata": {},
   "source": [
    "#### Question 4. Which genres have had the highest grossing revenue and ROI?"
   ]
  },
  {
   "cell_type": "code",
   "execution_count": null,
   "metadata": {},
   "outputs": [],
   "source": []
  },
  {
   "cell_type": "markdown",
   "metadata": {},
   "source": [
    "### Insights:\n",
    "* njksh"
   ]
  },
  {
   "cell_type": "code",
   "execution_count": null,
   "metadata": {},
   "outputs": [],
   "source": []
  }
 ],
 "metadata": {
  "kernelspec": {
   "display_name": "Python 3",
   "language": "python",
   "name": "python3"
  },
  "language_info": {
   "codemirror_mode": {
    "name": "ipython",
    "version": 3
   },
   "file_extension": ".py",
   "mimetype": "text/x-python",
   "name": "python",
   "nbconvert_exporter": "python",
   "pygments_lexer": "ipython3",
   "version": "3.7.6"
  }
 },
 "nbformat": 4,
 "nbformat_minor": 4
}
